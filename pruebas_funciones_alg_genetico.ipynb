{
 "cells": [
  {
   "cell_type": "code",
   "execution_count": 1,
   "id": "90cc1767",
   "metadata": {},
   "outputs": [],
   "source": [
    "import numpy as np \n",
    "from alg_genetico import *"
   ]
  },
  {
   "cell_type": "code",
   "execution_count": 2,
   "id": "407962b6",
   "metadata": {},
   "outputs": [
    {
     "name": "stdout",
     "output_type": "stream",
     "text": [
      "La cadena es [0 0 1 0 1 0 1 0 1 0] y es de un tipo de dato: <class 'numpy.ndarray'>\n"
     ]
    }
   ],
   "source": [
    "cadena1 = generar_cadena_binaria(10)\n",
    "print(f\"La cadena es {cadena1} y es de un tipo de dato: {type(cadena1)}\")"
   ]
  },
  {
   "cell_type": "code",
   "execution_count": null,
   "id": "2d58b593",
   "metadata": {},
   "outputs": [],
   "source": []
  },
  {
   "cell_type": "code",
   "execution_count": null,
   "id": "517ce392",
   "metadata": {},
   "outputs": [],
   "source": []
  }
 ],
 "metadata": {
  "kernelspec": {
   "display_name": "Python 3",
   "language": "python",
   "name": "python3"
  },
  "language_info": {
   "codemirror_mode": {
    "name": "ipython",
    "version": 3
   },
   "file_extension": ".py",
   "mimetype": "text/x-python",
   "name": "python",
   "nbconvert_exporter": "python",
   "pygments_lexer": "ipython3",
   "version": "3.12.0"
  }
 },
 "nbformat": 4,
 "nbformat_minor": 5
}
