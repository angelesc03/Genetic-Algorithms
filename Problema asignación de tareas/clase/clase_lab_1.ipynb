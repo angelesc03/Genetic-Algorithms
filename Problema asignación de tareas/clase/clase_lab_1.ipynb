{
 "cells": [
  {
   "cell_type": "markdown",
   "id": "342da37c",
   "metadata": {},
   "source": [
    "### Importación de bilbiotecas necesarias\n"
   ]
  },
  {
   "cell_type": "code",
   "execution_count": 2,
   "id": "4a409e05",
   "metadata": {},
   "outputs": [],
   "source": [
    "import numpy as np"
   ]
  },
  {
   "cell_type": "code",
   "execution_count": 3,
   "id": "8a5c747f",
   "metadata": {},
   "outputs": [],
   "source": [
    "## ---> Funcion para definir una función de benchmark para probar \n",
    "\n",
    "def dtlz2(x, n_obj):\n",
    "    \"\"\"\n",
    "    DTLZ2 test problem\n",
    "\n",
    "    Parameters\n",
    "    ----------\n",
    "    x : array_like\n",
    "        Decision variables\n",
    "    n_obj : int\n",
    "        Number of objectives\n",
    "\n",
    "    Returns\n",
    "    -------\n",
    "    array_like\n",
    "        Objective values\n",
    "    \"\"\"\n",
    "    x = np.asarray(x)\n",
    "    n_var = len(x)\n",
    "    k = n_var - n_obj + 1\n",
    "\n",
    "    g = np.sum((x[n_obj-1:] - 0.5)**2)\n",
    "\n",
    "    f = np.zeros(n_obj)\n",
    "    f[0] = (1 + g) * np.prod(np.cos(x[:n_obj-1] * np.pi / 2))\n",
    "    for i in range(1, n_obj - 1):\n",
    "        f[i] = (1 + g) * np.prod(np.cos(x[:n_obj-1-i] * np.pi / 2)) * np.sin(x[n_obj-1-i] * np.pi / 2)\n",
    "    f[n_obj-1] = (1 + g) * np.sin(x[0] * np.pi / 2)\n",
    "\n",
    "    return f\n"
   ]
  },
  {
   "cell_type": "code",
   "execution_count": 5,
   "id": "6a2b1040",
   "metadata": {},
   "outputs": [],
   "source": [
    "import numpy as np\n",
    "from IPython.display import display, Latex\n",
    "\n",
    "def mostrar_matriz_latex(matriz):\n",
    "    \"\"\"\n",
    "    Muestra una matriz en formato LaTeX de forma visual en una celda de Jupyter/Colab.\n",
    "\n",
    "    Parámetros:\n",
    "        matriz (list of lists or np.array): La matriz que se desea mostrar.\n",
    "    \"\"\"\n",
    "    # Asegurar que sea una matriz de numpy para facilitar el manejo\n",
    "    matriz = np.array(matriz)\n",
    "\n",
    "    # Crear el string LaTeX\n",
    "    latex_str = r\"\\begin{bmatrix}\"\n",
    "    for fila in matriz:\n",
    "        fila_str = \" & \".join(map(str, fila))\n",
    "        latex_str += fila_str + r\" \\\\ \"\n",
    "    latex_str += r\"\\end{bmatrix}\"\n",
    "\n",
    "    # Mostrar\n",
    "    display(Latex(f\"$$ {latex_str} $$\"))\n"
   ]
  },
  {
   "cell_type": "code",
   "execution_count": 8,
   "id": "817ba542",
   "metadata": {},
   "outputs": [
    {
     "data": {
      "text/latex": [
       "$$ \\begin{bmatrix}1 & 2 & 3 & 5 \\\\ 4 & 5 & 6 & 8 \\\\ 7 & 8 & 9 & 11 \\\\ \\end{bmatrix} $$"
      ],
      "text/plain": [
       "<IPython.core.display.Latex object>"
      ]
     },
     "metadata": {},
     "output_type": "display_data"
    }
   ],
   "source": [
    "# Ejemplo de uso\n",
    "A = [[1, 2, 3,5],\n",
    "     [4, 5, 6,8],\n",
    "     [7, 8, 9,11]]\n",
    "\n",
    "mostrar_matriz_latex(A)\n"
   ]
  },
  {
   "cell_type": "code",
   "execution_count": 7,
   "id": "35c5d791",
   "metadata": {},
   "outputs": [
    {
     "name": "stdout",
     "output_type": "stream",
     "text": [
      "A original:\n",
      " [[1 2 3]\n",
      " [4 5 6]]\n",
      "A permutada:\n",
      " [[3 1 2]\n",
      " [6 4 5]]\n",
      "B original:\n",
      " [[10 20 30]\n",
      " [40 50 60]]\n",
      "B permutada:\n",
      " [[30 10 20]\n",
      " [60 40 50]]\n"
     ]
    }
   ],
   "source": [
    "import numpy as np\n",
    "\n",
    "# Matrices ejemplo\n",
    "A = np.array([[1, 2, 3],\n",
    "              [4, 5, 6]])\n",
    "\n",
    "B = np.array([[10, 20, 30],\n",
    "              [40, 50, 60]])\n",
    "\n",
    "# Definir permutación de columnas (por ejemplo, intercambiar la 1ra y 3ra columna)\n",
    "permutacion = [2, 0, 1]  # Esto pone la 3ª columna primero, luego la 1ª, luego la 2ª\n",
    "\n",
    "# Aplicar la permutación a las columnas\n",
    "A_perm = A[:, permutacion]\n",
    "B_perm = B[:, permutacion]\n",
    "\n",
    "# Mostrar resultados\n",
    "print(\"A original:\\n\", A)\n",
    "print(\"A permutada:\\n\", A_perm)\n",
    "\n",
    "print(\"B original:\\n\", B)\n",
    "print(\"B permutada:\\n\", B_perm)\n"
   ]
  },
  {
   "cell_type": "code",
   "execution_count": null,
   "id": "d15d923f",
   "metadata": {},
   "outputs": [],
   "source": [
    "La población de padres es: [44, 17, 8, 37, 6, 3, 2, 8, 37, 35, 29, 34, 42, 37, 48, 44, 26, 13, 32, 6, 49, 48, 11, 6, 28, 8, 45, 37, 19, 19, 3, 48, 30, 45, 40, 12, 6, 29, 42, 10, 40, 16, 17, 44, 3, 18, 31, 5, 44, 2]"
   ]
  }
 ],
 "metadata": {
  "kernelspec": {
   "display_name": "Python 3",
   "language": "python",
   "name": "python3"
  },
  "language_info": {
   "codemirror_mode": {
    "name": "ipython",
    "version": 3
   },
   "file_extension": ".py",
   "mimetype": "text/x-python",
   "name": "python",
   "nbconvert_exporter": "python",
   "pygments_lexer": "ipython3",
   "version": "3.12.6"
  }
 },
 "nbformat": 4,
 "nbformat_minor": 5
}
