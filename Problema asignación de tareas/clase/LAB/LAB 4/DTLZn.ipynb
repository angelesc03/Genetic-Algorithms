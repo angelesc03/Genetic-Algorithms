{
 "cells": [
  {
   "cell_type": "markdown",
   "id": "661b65b2",
   "metadata": {},
   "source": [
    "### Importación de librerías"
   ]
  },
  {
   "cell_type": "code",
   "execution_count": 1,
   "id": "a0ea1940",
   "metadata": {},
   "outputs": [],
   "source": [
    "import numpy as np\n",
    "import matplotlib.pyplot as plt\n",
    "from NSGAII import *"
   ]
  },
  {
   "cell_type": "markdown",
   "id": "4c999b95",
   "metadata": {},
   "source": [
    "### Generar una poblaciónn inicial"
   ]
  },
  {
   "cell_type": "code",
   "execution_count": 2,
   "id": "3aa829d5",
   "metadata": {},
   "outputs": [],
   "source": [
    "def generar_poblacion(n_soluciones, n_variables, limite_inferior=0, limite_superior=np.inf, tipo_codificacion=\"continua\"):\n",
    "    \"\"\"\n",
    "    Genera una población de soluciones aleatorias de forma genérica.\n",
    "\n",
    "    Args:\n",
    "        n_soluciones (int): El número de individuos a generar (ej. 10000).\n",
    "        n_variables (int): El número de variables de decisión para cada individuo.\n",
    "        limite_inferior (float or int): El límite inferior del rango de valores.\n",
    "        limite_superior (float or int): El límite superior del rango de valores.\n",
    "        tipo_codificacion (str): \"continua\" para valores flotantes (por defecto) o\n",
    "                                 \"discreta\" para valores enteros.\n",
    "\n",
    "    Returns:\n",
    "        np.array: una matriz de tamaño (n_soluciones, n_variables) con valores\n",
    "                  aleatorios dentro del rango y tipo especificados.\n",
    "    \"\"\"\n",
    "    if tipo_codificacion == \"continua\":\n",
    "        # Genera valores flotantes en [0, 1) y luego los escala al rango deseado.\n",
    "        # Fórmula: min + (max - min) * rand()\n",
    "        poblacion = limite_inferior + (limite_superior - limite_inferior) * np.random.rand(n_soluciones, n_variables)\n",
    "    \n",
    "    elif tipo_codificacion == \"discreta\":\n",
    "        # Genera valores enteros directamente en el rango [limite_inferior, limite_superior].\n",
    "        # np.random.randint tiene un límite superior exclusivo, por eso se le suma 1.\n",
    "        poblacion = np.random.randint(low=limite_inferior, high=limite_superior + 1, size=(n_soluciones, n_variables))\n",
    "        \n",
    "    else:\n",
    "        raise ValueError(\"El 'tipo_codificacion' debe ser 'continua' o 'discreta'.\")\n",
    "        \n",
    "    return poblacion"
   ]
  },
  {
   "cell_type": "markdown",
   "id": "bf42a5fa",
   "metadata": {},
   "source": [
    "### DTLZ1"
   ]
  },
  {
   "cell_type": "code",
   "execution_count": null,
   "id": "07e09f18",
   "metadata": {},
   "outputs": [],
   "source": [
    "def dtlz1(x, n_objetivos):\n",
    "    \"\"\"\n",
    "    Calcula los valores de los M objetivos para una solución 'x' del problema DTLZ1.\n",
    "\n",
    "    Args:\n",
    "        x (np.array): Un vector de decisión de tamaño (n_variables,).\n",
    "        n_objetivos (int): El número de objetivos (M).\n",
    "\n",
    "    Returns:\n",
    "        np.array: Un vector con los M valores de los objetivos calculados.\n",
    "    \"\"\"\n",
    "    # El número de variables (n) y objetivos (M) están relacionados.\n",
    "    # Usualmente, n = M + k - 1. Un valor estándar para k es 5.\n",
    "    # Por lo tanto, n_variables debe ser >= n_objetivos.\n",
    "    if x.shape[0] < n_objetivos:\n",
    "        raise ValueError(\"El número de variables debe ser al menos el número de objetivos.\")\n",
    "\n",
    "    # 1. Separar las variables en x_I y x_II\n",
    "    # x_I tiene las primeras M-1 variables\n",
    "    # x_II tiene el resto\n",
    "    m = n_objetivos\n",
    "    x_I = x[:m-1]\n",
    "    x_II = x[m-1:]\n",
    "\n",
    "    # 2. Calcular la función g(x_II)\n",
    "    # Esta es la \"función trampa\" que debe ser minimizada a cero\n",
    "    termino_suma = np.sum((x_II - 0.5)**2 - np.cos(20 * np.pi * (x_II - 0.5)))\n",
    "    g = 100 * (len(x_II) + termino_suma)\n",
    "\n",
    "    # 3. Calcular los M objetivos f(x)\n",
    "    objetivos = np.zeros(m)\n",
    "    factor_g = 0.5 * (1 + g)\n",
    "\n",
    "    # El cálculo se puede hacer de forma iterativa\n",
    "    cos_prod = 1.0\n",
    "    for i in range(m - 1):\n",
    "        # f_i = factor_g * prod(cos) * sin\n",
    "        objetivos[i] = factor_g * cos_prod * np.sin(x[i] * np.pi / 2)\n",
    "        cos_prod *= np.cos(x[i] * np.pi / 2)\n",
    "\n",
    "    # El primer objetivo es un caso especial (solo cosenos)\n",
    "    objetivos[m-1] = factor_g * cos_prod\n",
    "    \n",
    "    # La fórmula matemática suele listar de f1 a fM.\n",
    "    # La implementación es más fácil si la recorremos al revés,\n",
    "    # así que invertimos el resultado para que coincida con la definición.\n",
    "    return objetivos[::-1]"
   ]
  },
  {
   "cell_type": "markdown",
   "id": "a332427d",
   "metadata": {},
   "source": [
    "### DTLZ2"
   ]
  },
  {
   "cell_type": "code",
   "execution_count": 4,
   "id": "45b11213",
   "metadata": {},
   "outputs": [],
   "source": [
    "def dtlz2(x, n_objetivos):\n",
    "    \"\"\"\n",
    "    Calcula los valores de los M objetivos para una solución 'x' del problema DTLZ2.\n",
    "\n",
    "    Args:\n",
    "        x (np.array): Un vector de decisión de tamaño (n_variables,).\n",
    "        n_objetivos (int): El número de objetivos (M).\n",
    "\n",
    "    Returns:\n",
    "        np.array: Un vector con los M valores de los objetivos calculados.\n",
    "    \"\"\"\n",
    "    if x.shape[0] < n_objetivos:\n",
    "        raise ValueError(\"El número de variables debe ser al menos el número de objetivos.\")\n",
    "\n",
    "    m = n_objetivos\n",
    "    # Para DTLZ2, se recomienda k=10. n_variables = n_objetivos + k - 1\n",
    "    \n",
    "    # 1. Separar las variables\n",
    "    x_I = x[:m-1]\n",
    "    x_II = x[m-1:]\n",
    "\n",
    "    # 2. Calcular la función g(x_II)\n",
    "    # Es mucho más simple que en DTLZ1, sin trampas\n",
    "    g = np.sum((x_II - 0.5)**2)\n",
    "\n",
    "    # 3. Calcular los M objetivos f(x)\n",
    "    objetivos = np.zeros(m)\n",
    "    factor_g = 1 + g\n",
    "\n",
    "    # El cálculo es idéntico a DTLZ1, solo cambia el factor_g\n",
    "    cos_prod = 1.0\n",
    "    for i in range(m - 1):\n",
    "        objetivos[i] = factor_g * cos_prod * np.sin(x[i] * np.pi / 2)\n",
    "        cos_prod *= np.cos(x[i] * np.pi / 2)\n",
    "    \n",
    "    objetivos[m-1] = factor_g * cos_prod\n",
    "    \n",
    "    return objetivos[::-1]"
   ]
  },
  {
   "cell_type": "code",
   "execution_count": 11,
   "id": "47a05e34",
   "metadata": {},
   "outputs": [],
   "source": [
    "def dtlz7(x, n_objetivos):\n",
    "    \"\"\"\n",
    "    Calcula los valores de los M objetivos para una solución 'x' del problema DTLZ7.\n",
    "\n",
    "    Args:\n",
    "        x (np.array): Un vector de decisión de tamaño (n_variables,).\n",
    "        n_objetivos (int): El número de objetivos (M).\n",
    "\n",
    "    Returns:\n",
    "        np.array: Un vector con los M valores de los objetivos calculados.\n",
    "    \"\"\"\n",
    "    if x.shape[0] < n_objetivos:\n",
    "        raise ValueError(\"El número de variables debe ser al menos el número de objetivos.\")\n",
    "\n",
    "    m = n_objetivos\n",
    "    # Para DTLZ7, se recomienda k=20. n_variables = n_objetivos + k - 1\n",
    "\n",
    "    objetivos = np.zeros(m)\n",
    "    \n",
    "    # 1. Calcular los primeros M-1 objetivos\n",
    "    objetivos[:m-1] = x[:m-1]\n",
    "\n",
    "    # 2. Separar x_II y calcular g(x_II)\n",
    "    x_II = x[m-1:]\n",
    "    g = 1 + (9.0 / len(x_II)) * np.sum(x_II)\n",
    "\n",
    "    # 3. Calcular h\n",
    "    f_primeros = objetivos[:m-1]\n",
    "    termino_suma_h = np.sum( (f_primeros / (1.0 + g)) * (1 + np.sin(3.0 * np.pi * f_primeros)) )\n",
    "    h = m - termino_suma_h\n",
    "    \n",
    "    # 4. Calcular el último objetivo, f_M\n",
    "    objetivos[m-1] = (1 + g) * h\n",
    "\n",
    "    return objetivos"
   ]
  },
  {
   "cell_type": "markdown",
   "id": "46b5cd83",
   "metadata": {},
   "source": [
    "### Obtener el fitness de una población inicial"
   ]
  },
  {
   "cell_type": "code",
   "execution_count": null,
   "id": "46d963d2",
   "metadata": {},
   "outputs": [],
   "source": [
    "def evaluar_poblacion(poblacion, funcion_evaluacion, n_objetivos):\n",
    "    \"\"\"\n",
    "    Evalúa cada individuo de una población usando una función de fitness específica.\n",
    "\n",
    "    Args:\n",
    "        poblacion (np.array): Matriz (n_soluciones, n_variables) que contiene la población.\n",
    "        funcion_evaluacion (function): La función a usar para evaluar cada individuo\n",
    "                                       (ej. evaluar_dtlz1, evaluar_dtlz2).\n",
    "        n_objetivos (int): El número de objetivos a calcular, requerido por la\n",
    "                           función de evaluación.\n",
    "\n",
    "    Returns:\n",
    "        list: Una lista donde cada elemento es una sublista con la forma:\n",
    "              [cromosoma_individuo (np.array), fitness_calculado (np.array)].\n",
    "    \"\"\"\n",
    "    poblacion_evaluada = []\n",
    "    for individuo in poblacion:\n",
    "        fitness = funcion_evaluacion(individuo, n_objetivos)\n",
    "        \n",
    "        poblacion_evaluada.append([individuo, fitness])\n",
    "        \n",
    "    return poblacion_evaluada"
   ]
  },
  {
   "cell_type": "markdown",
   "id": "71a8ba60",
   "metadata": {},
   "source": [
    "### Generando una población inicial"
   ]
  },
  {
   "cell_type": "code",
   "execution_count": 7,
   "id": "2639c55c",
   "metadata": {},
   "outputs": [
    {
     "name": "stdout",
     "output_type": "stream",
     "text": [
      "La cantidad de individuos generados fueron: 100\n"
     ]
    }
   ],
   "source": [
    "poblacion_aleatoria = generar_poblacion(100,3,0.0, 1.0, 'continua')\n",
    "print(f\"La cantidad de individuos generados fueron: {len(poblacion_aleatoria)}\")"
   ]
  },
  {
   "cell_type": "markdown",
   "id": "73be3af2",
   "metadata": {},
   "source": [
    "### Probando DTZ1"
   ]
  },
  {
   "cell_type": "code",
   "execution_count": null,
   "id": "45cea52d",
   "metadata": {},
   "outputs": [],
   "source": [
    "num_objetivos = 2\n"
   ]
  },
  {
   "cell_type": "markdown",
   "id": "13767720",
   "metadata": {},
   "source": [
    "### Probando las funciones"
   ]
  },
  {
   "cell_type": "code",
   "execution_count": 14,
   "id": "57146be7",
   "metadata": {},
   "outputs": [
    {
     "name": "stdout",
     "output_type": "stream",
     "text": [
      "DTLZ1 (3 obj, 6 vars) - Ejemplo evaluación: [238.05491012  46.10132652]\n",
      "DTLZ2 (3 obj, 11 vars) - Ejemplo evaluación: [1.2930224  0.99135965]\n",
      "DTLZ7 (3 obj, 21 vars) - Ejemplo evaluación: [ 0.73940157 13.57765358]\n"
     ]
    }
   ],
   "source": [
    "N_SOLUCIONES = 10000\n",
    "N_OBJETIVOS =  2# Probemos con 3 objetivos\n",
    "\n",
    "# --- DTLZ1 ---\n",
    "k1 = 5\n",
    "n_vars_1 = N_OBJETIVOS + k1 - 1\n",
    "pob1 = generar_poblacion(N_SOLUCIONES, n_vars_1, 0, 1, 'continua')\n",
    "sol_eval_1 = dtlz1(pob1[0], N_OBJETIVOS)\n",
    "print(f\"DTLZ1 (3 obj, {n_vars_1} vars) - Ejemplo evaluación: {sol_eval_1}\")\n",
    "\n",
    "# --- DTLZ2 ---\n",
    "k2 = 10\n",
    "n_vars_2 = N_OBJETIVOS + k2 - 1\n",
    "pob2 = generar_poblacion(N_SOLUCIONES, n_vars_2, 0, 1, 'continua')\n",
    "sol_eval_2 = dtlz2(pob2[0], N_OBJETIVOS)\n",
    "print(f\"DTLZ2 (3 obj, {n_vars_2} vars) - Ejemplo evaluación: {sol_eval_2}\")\n",
    "\n",
    "# --- DTLZ7 ---\n",
    "k7 = 20\n",
    "n_vars_7 = N_OBJETIVOS + k7 - 1\n",
    "pob7 = generar_poblacion(N_SOLUCIONES, n_vars_7, 0, 1, 'continua')\n",
    "sol_eval_7 = dtlz7(pob7[0], N_OBJETIVOS)\n",
    "print(f\"DTLZ7 (3 obj, {n_vars_7} vars) - Ejemplo evaluación: {sol_eval_7}\")"
   ]
  },
  {
   "cell_type": "code",
   "execution_count": null,
   "id": "0c161b41",
   "metadata": {},
   "outputs": [],
   "source": []
  }
 ],
 "metadata": {
  "kernelspec": {
   "display_name": "Python 3",
   "language": "python",
   "name": "python3"
  },
  "language_info": {
   "codemirror_mode": {
    "name": "ipython",
    "version": 3
   },
   "file_extension": ".py",
   "mimetype": "text/x-python",
   "name": "python",
   "nbconvert_exporter": "python",
   "pygments_lexer": "ipython3",
   "version": "3.12.6"
  }
 },
 "nbformat": 4,
 "nbformat_minor": 5
}
