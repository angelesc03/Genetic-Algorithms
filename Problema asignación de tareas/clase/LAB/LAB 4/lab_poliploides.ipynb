{
 "cells": [
  {
   "cell_type": "code",
   "execution_count": 1,
   "id": "d41e1d65",
   "metadata": {},
   "outputs": [],
   "source": [
    "import numpy as np \n",
    "import random \n",
    "from lab_4 import *"
   ]
  },
  {
   "cell_type": "markdown",
   "id": "4d2d8461",
   "metadata": {},
   "source": [
    "### Seleccionando valores de prueba:"
   ]
  },
  {
   "cell_type": "code",
   "execution_count": 2,
   "id": "4af38a21",
   "metadata": {},
   "outputs": [],
   "source": [
    "p1 = np.array([[2,3,3,1,2,4,4,5],\n",
    "               [5,4,3,3,2,1,2,5],\n",
    "               [4,5,4,2,1,1,2,3]])\n",
    "\n",
    "\n",
    "p2 = np.array([[5,4,1,3,2,4,1,3],\n",
    "               [1,1,3,4,4,5,2,2],\n",
    "               [1,3,3,2,2,4,4,5],])"
   ]
  },
  {
   "cell_type": "code",
   "execution_count": 5,
   "id": "ff110d1a",
   "metadata": {},
   "outputs": [
    {
     "name": "stdout",
     "output_type": "stream",
     "text": [
      "PADRE 1 --->\n"
     ]
    },
    {
     "data": {
      "text/latex": [
       "$\\displaystyle \\begin{bmatrix}2 & 3 & 3 & 1 & \\textcolor{blue}{\\mathbf{2}} & 4 & 4 & \\textcolor{blue}{\\mathbf{5}} \\\\ 5 & 4 & 3 & 3 & \\textcolor{blue}{\\mathbf{2}} & 1 & 2 & \\textcolor{blue}{\\mathbf{5}} \\\\ 4 & 5 & 4 & 2 & \\textcolor{blue}{\\mathbf{1}} & 1 & 2 & \\textcolor{blue}{\\mathbf{3}}\\end{bmatrix}$"
      ],
      "text/plain": [
       "<IPython.core.display.Math object>"
      ]
     },
     "metadata": {},
     "output_type": "display_data"
    },
    {
     "name": "stdout",
     "output_type": "stream",
     "text": [
      "PADRE 2 --->\n"
     ]
    },
    {
     "data": {
      "text/latex": [
       "$\\displaystyle \\begin{bmatrix}5 & 4 & 1 & 3 & \\textcolor{blue}{\\mathbf{2}} & 4 & 1 & \\textcolor{blue}{\\mathbf{3}} \\\\ 1 & 1 & 3 & 4 & \\textcolor{blue}{\\mathbf{4}} & 5 & 2 & \\textcolor{blue}{\\mathbf{2}} \\\\ 1 & 3 & 3 & 2 & \\textcolor{blue}{\\mathbf{2}} & 4 & 4 & \\textcolor{blue}{\\mathbf{5}}\\end{bmatrix}$"
      ],
      "text/plain": [
       "<IPython.core.display.Math object>"
      ]
     },
     "metadata": {},
     "output_type": "display_data"
    },
    {
     "name": "stdout",
     "output_type": "stream",
     "text": [
      "HIJO 1 --->\n"
     ]
    },
    {
     "data": {
      "text/latex": [
       "$\\displaystyle \\begin{bmatrix}2 & 3 & 3 & 1 & 2 & 4 & 1 & 5 \\\\ 5 & 4 & 3 & 3 & 4 & 5 & 2 & 5 \\\\ 4 & 5 & 4 & 2 & 2 & 4 & 4 & 3\\end{bmatrix}$"
      ],
      "text/plain": [
       "<IPython.core.display.Math object>"
      ]
     },
     "metadata": {},
     "output_type": "display_data"
    },
    {
     "name": "stdout",
     "output_type": "stream",
     "text": [
      "HIJO 2 --->\n"
     ]
    },
    {
     "data": {
      "text/latex": [
       "$\\displaystyle \\begin{bmatrix}5 & 4 & 1 & 3 & 2 & 4 & 4 & 3 \\\\ 1 & 1 & 3 & 4 & 2 & 1 & 2 & 2 \\\\ 1 & 3 & 3 & 2 & 1 & 1 & 2 & 5\\end{bmatrix}$"
      ],
      "text/plain": [
       "<IPython.core.display.Math object>"
      ]
     },
     "metadata": {},
     "output_type": "display_data"
    }
   ],
   "source": [
    "hijo_1, hijo_2 = cruza_n_puntos_poliploides(p1, p2, 2)\n",
    "\n"
   ]
  },
  {
   "cell_type": "code",
   "execution_count": null,
   "id": "6f1982df",
   "metadata": {},
   "outputs": [],
   "source": []
  },
  {
   "cell_type": "code",
   "execution_count": null,
   "id": "8ad00d6c",
   "metadata": {},
   "outputs": [],
   "source": []
  }
 ],
 "metadata": {
  "kernelspec": {
   "display_name": "Python 3",
   "language": "python",
   "name": "python3"
  },
  "language_info": {
   "codemirror_mode": {
    "name": "ipython",
    "version": 3
   },
   "file_extension": ".py",
   "mimetype": "text/x-python",
   "name": "python",
   "nbconvert_exporter": "python",
   "pygments_lexer": "ipython3",
   "version": "3.12.6"
  }
 },
 "nbformat": 4,
 "nbformat_minor": 5
}
