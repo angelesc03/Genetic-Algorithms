{
 "cells": [
  {
   "cell_type": "markdown",
   "id": "2503df92",
   "metadata": {},
   "source": [
    "Prueba de la funcion para cargar los datos de la matriz de relación operación-máquina "
   ]
  },
  {
   "cell_type": "code",
   "execution_count": 1,
   "id": "c0ba6d74",
   "metadata": {},
   "outputs": [
    {
     "ename": "IndentationError",
     "evalue": "expected an indented block after 'for' statement on line 99 (datos_transformacion.py, line 100)",
     "output_type": "error",
     "traceback": [
      "Traceback \u001b[1;36m(most recent call last)\u001b[0m:\n",
      "\u001b[0m  File \u001b[0;32m~\\AppData\\Roaming\\Python\\Python312\\site-packages\\IPython\\core\\interactiveshell.py:3577\u001b[0m in \u001b[0;35mrun_code\u001b[0m\n    exec(code_obj, self.user_global_ns, self.user_ns)\u001b[0m\n",
      "\u001b[1;36m  Cell \u001b[1;32mIn[1], line 1\u001b[1;36m\n\u001b[1;33m    from datos_transformacion import *\u001b[1;36m\n",
      "\u001b[1;36m  File \u001b[1;32mc:\\Users\\DELL5400\\Documents\\noveno semestre\\Topicos de Algoritmos Bioinspirados\\Genetic-Algorithms\\Problema asignación de tareas\\visualizador\\datos_transformacion.py:100\u001b[1;36m\u001b[0m\n\u001b[1;33m    \u001b[0m\n\u001b[1;37m    ^\u001b[0m\n\u001b[1;31mIndentationError\u001b[0m\u001b[1;31m:\u001b[0m expected an indented block after 'for' statement on line 99\n"
     ]
    }
   ],
   "source": [
    "from datos_transformacion import *\n",
    "\n",
    "matriz_gen = cargar_matriz_operaciones_maquina('datos_maquina_operacion.txt')\n",
    "print(matriz_gen.shape)\n",
    "print(matriz_gen)\n",
    "print(f\"Imprimiendo el valor en el espacio 2,2 = {matriz_gen[1][1]}\")"
   ]
  },
  {
   "cell_type": "markdown",
   "id": "e63aad4c",
   "metadata": {},
   "source": [
    "Imprimiendo el diccionario estructura para pasar a la función de graficación...."
   ]
  },
  {
   "cell_type": "code",
   "execution_count": null,
   "id": "1f90b5ea",
   "metadata": {},
   "outputs": [],
   "source": [
    "tareas = [\n",
    "    # Tarea 1 con 3 actividades \n",
    "    [ \n",
    "        {'maquina': 0, 'duracion': 5.2, 'inicio':0, 'actividad_num':1},\n",
    "        {'maquina': 1, 'duracion': 7.8, 'inicio':5.2, 'actividad_num':2},\n",
    "        {'maquina': 1, 'duracion': 5.5, 'inicio':13, 'actividad_num':3},  \n",
    "    ],\n",
    "    # Trabajo 2 con 2 actividades\n",
    "    [\n",
    "        {'maquina': 0, 'duracion': 3.1, 'inicio':5.2, 'actividad_num':1},\n",
    "        {'maquina': 2, 'duracion': 6.2, 'inicio':0, 'actividad_num':2},\n",
    "    ],\n",
    "    # Trabajo 3 con 3 actividades\n",
    "    [\n",
    "        {'maquina': 0, 'duracion': 2.5, 'inicio':8.3, 'actividad_num':1},\n",
    "        {'maquina': 2, 'duracion': 6.2, 'inicio':6.2, 'actividad_num':2},\n",
    "        {'maquina': 2, 'duracion': 2.2, 'inicio':12.4, 'actividad_num':3}, \n",
    "    ],\n",
    "    #Trabajo 4 con 1 actividad \n",
    "    [\n",
    "        {'maquina': 1, 'duracion':3.1, 'inicio':18.5, 'actividad_num':1},\n",
    "    ],\n",
    "]\n",
    "\n",
    "\n",
    "print(tareas)"
   ]
  },
  {
   "cell_type": "code",
   "execution_count": 8,
   "id": "b69533fa",
   "metadata": {},
   "outputs": [
    {
     "name": "stdout",
     "output_type": "stream",
     "text": [
      "El arreglo es: [[1.  2.1 3.2 4.5]\n",
      " [2.  3.  5.  2. ]] \n",
      "La matriz tiene 2 filas y 4 columnas\n"
     ]
    }
   ],
   "source": [
    "# Declarando un array de numpy\n",
    "arreglo = np.matrix([[1,2.1,3.2,4.5],[2,3,5,2]])\n",
    "print(f\"El arreglo es: {arreglo} \")\n",
    "x,y = arreglo.shape\n",
    "print(f\"La matriz tiene {x} filas y {y} columnas\")"
   ]
  },
  {
   "cell_type": "code",
   "execution_count": 10,
   "id": "1b8b0af4",
   "metadata": {},
   "outputs": [
    {
     "name": "stdout",
     "output_type": "stream",
     "text": [
      "[[1, 2, 3], [2, 3], [2, 3, 4], [1]]\n",
      "4\n"
     ]
    }
   ],
   "source": [
    "from datos_transformacion import *\n",
    "matriz_tareas = cargar_matriz_oepraciones_tareas('tareas.txt')\n",
    "print(matriz_tareas)\n",
    "print(len(matriz_tareas))"
   ]
  },
  {
   "cell_type": "code",
   "execution_count": 14,
   "id": "090100e7",
   "metadata": {},
   "outputs": [
    {
     "name": "stdout",
     "output_type": "stream",
     "text": [
      "[[], [], [], []]\n"
     ]
    }
   ],
   "source": [
    "x = [[] for y in range (len(matriz_tareas))]\n",
    "print(x)"
   ]
  },
  {
   "cell_type": "code",
   "execution_count": 18,
   "id": "a044e6d2",
   "metadata": {},
   "outputs": [
    {
     "name": "stdout",
     "output_type": "stream",
     "text": [
      "[1 2 3]\n",
      "<class 'numpy.ndarray'>\n",
      "[1 2 3]\n",
      "<class 'numpy.ndarray'>\n"
     ]
    }
   ],
   "source": [
    "lista = [1,2,3]\n",
    "array_numpy = np.array(lista)\n",
    "print(array_numpy)\n",
    "print(type(array_numpy))\n",
    "\n",
    "\n",
    "array_2 = np.array(array_numpy)\n",
    "print(array_2)\n",
    "print(type(array_2))"
   ]
  },
  {
   "cell_type": "markdown",
   "id": "37a586b4",
   "metadata": {},
   "source": [
    "# Probando la función principal"
   ]
  },
  {
   "cell_type": "code",
   "execution_count": 43,
   "id": "8db28dab",
   "metadata": {},
   "outputs": [],
   "source": [
    "# Parámetros que se necesitan \n",
    "mat_op_maq = cargar_matriz_operaciones_maquina('datos_maquina_operacion.txt')\n",
    "mat_op_tar = cargar_matriz_oepraciones_tareas('tareas.txt')\n",
    "array_genetico = np.array([1,2,2,1,3,1,3,3,2,5])\n"
   ]
  },
  {
   "cell_type": "markdown",
   "id": "8db4e083",
   "metadata": {},
   "source": [
    "## Codficando la función principal"
   ]
  },
  {
   "cell_type": "code",
   "execution_count": null,
   "id": "36d0ef2a",
   "metadata": {},
   "outputs": [],
   "source": [
    "# ---> funcion adicional para gestionar el tiempo"
   ]
  },
  {
   "cell_type": "code",
   "execution_count": null,
   "id": "94961594",
   "metadata": {},
   "outputs": [],
   "source": [
    "def transformar_datos_visualizador(mtx_oper_mach, mtx_oper_tsk, vector_gen):\n",
    "    # FUNCION PARA GESTIONAR EL TIEMPO\n",
    "    \n",
    "\n",
    "    \n",
    "    print(f\"La matriz de maquinas-operaciones es : {mtx_oper_mach}\")\n",
    "    # Convirtiendo el vector generado por el genético en un array de numpy \n",
    "    vector_gen = np.array(vector_gen)\n",
    "    # Genearando la lista general que contendrá todos los datos\n",
    "    arreglo_visualizador = [[] for i in range(len(mtx_oper_mach))]\n",
    "\n",
    "    # Generando la lista con cada una de las tareas \n",
    "    arreglo_tareas_genetico = [[] for i in range(len(mtx_oper_mach))]\n",
    "\n",
    "    # Lista con la longitud de cada una de las tareas\n",
    "    cortes = [len(arreglo) for arreglo in mtx_oper_tsk]\n",
    "\n",
    "    # Haciendo una lista con las operaciones correspondientes a cada tarea\n",
    "    idx_aux = 0\n",
    "    for i in range(len(arreglo_tareas_genetico)):\n",
    "        arreglo_tareas_genetico[i] = vector_gen[idx_aux : idx_aux + cortes[i]]\n",
    "        idx_aux = idx_aux + cortes[i]\n",
    "\n",
    "    #print(f\"El array de tareas es: {mtx_oper_tsk} que es la operación a realizar\")\n",
    "    #print(f\"El array en el genetico es: {arreglo_tareas_genetico} que contiene la máquina que la ejecutará\")\n",
    "    \n",
    "    # Generar dos arreglos para el manejo del tiempo en las máquinas\n",
    "\n",
    "    tiempo_maquinas = [[0.0] for _ in range(mtx_oper_mach.shape[1])]\n",
    "    tiempo_tareas = [[0.0] for _ in range(len(mtx_oper_mach))]\n",
    "\n",
    "    print(f\"El array tiempo-maquinas es: {tiempo_maquinas}\")\n",
    "    print(f\"El array tiempo-tareas es: {tiempo_tareas}\")\n",
    "\n",
    "\n",
    "\n",
    "\n",
    "\n",
    "\n",
    "\n",
    "\n",
    "\n",
    "    #print(f\"Imprimiendo el array tiempo_maquinas en su declaración: {tiempo_maquinas}\")\n",
    "    #print(f\"Imprimiendo el array tiempo_tareas en su declaración: {tiempo_tareas}\")\n",
    "    # Llenando el array principal con los valores que se van obteniendo\n",
    "    for i_tareas in range(len(arreglo_visualizador)):  # ---> Va de 0 a 3\n",
    "        print(f\"---------------------- Para la tarea {i_tareas + 1}\")\n",
    "        for j_act in range(len(mtx_oper_tsk[i_tareas])): # ---> Va de \n",
    "            #print(f\"El valor de j_act es: {j_act}\")\n",
    "            # Definiendo variables para cada uno de los puntos que debe contener la estructura\n",
    "\n",
    "            num_maquina = arreglo_tareas_genetico[i_tareas][j_act]-1\n",
    "            duracion_operacion = mtx_oper_mach[mtx_oper_tsk[i_tareas][j_act]-1][arreglo_tareas_genetico[i_tareas][j_act]-1]\n",
    "            #print(f\"La maquina actual tiene los siguientes tiempos: {tiempo_maquinas[num_maquina]} siendo de tipo {type(tiempo_maquinas[num_maquina])}\")\n",
    "            #print(f\"La tarea actual va de acuerdo a los sigiuentes tiempo: {tiempo_tareas[i_tareas]} siendo de tipo {type(tiempo_tareas[i_tareas])}\")\n",
    "            punto_inicio = max(max(tiempo_maquinas[num_maquina]), max(tiempo_tareas[i_tareas]))\n",
    "            \n",
    "            arreglo_visualizador[i_tareas].append({'maquina': num_maquina, \n",
    "                                                   'duracion': duracion_operacion,\n",
    "                                                   'inicio': punto_inicio,\n",
    "                                                   'actividad_num':j_act+1,\n",
    "                                                   })\n",
    "            print(f\"La operación: {mtx_oper_tsk[i_tareas][j_act]} será ejecutada en la máquina {num_maquina} con una duración de {duracion_operacion} e iniciando en el tiempo: {punto_inicio} y siendo la actividad: {j_act+1}\")\n",
    "            \n",
    "            # Actualizando los tiempos de las máquinas y las tareas: Tiempo inicio + duracion\n",
    "            tiempo_maquinas[num_maquina].append(tiempo_maquinas[num_maquina][-1] + duracion_operacion)\n",
    "            tiempo_tareas[i_tareas].append(tiempo_tareas[i_tareas][-1] + duracion_operacion)       \n",
    "\n",
    "\n",
    "    return arreglo_visualizador"
   ]
  },
  {
   "cell_type": "markdown",
   "id": "8226f47e",
   "metadata": {},
   "source": [
    "## Probando la funcion principal con casos de prueba"
   ]
  },
  {
   "cell_type": "code",
   "execution_count": 144,
   "id": "0d4b7315",
   "metadata": {},
   "outputs": [
    {
     "name": "stdout",
     "output_type": "stream",
     "text": [
      "La matriz de maquinas-operaciones es : [[5.2 3.1 6.8]\n",
      " [2.5 7.8 1.9]\n",
      " [9.3 5.5 6.2]\n",
      " [3.1 1.2 2.2]]\n",
      "El array tiempo-maquinas es: [[0.0], [0.0], [0.0]]\n",
      "El array tiempo-tareas es: [[0.0], [0.0], [0.0], [0.0]]\n",
      "---------------------- Para la tarea 1\n",
      "La operación: 1 será ejecutada en la máquina 0 con una duración de 5.2 e iniciando en el tiempo: 0.0 y siendo la actividad: 1\n",
      "La operación: 2 será ejecutada en la máquina 1 con una duración de 7.8 e iniciando en el tiempo: 5.2 y siendo la actividad: 2\n",
      "La operación: 3 será ejecutada en la máquina 1 con una duración de 5.5 e iniciando en el tiempo: 13.0 y siendo la actividad: 3\n",
      "---------------------- Para la tarea 2\n",
      "La operación: 2 será ejecutada en la máquina 0 con una duración de 2.5 e iniciando en el tiempo: 5.2 y siendo la actividad: 1\n",
      "La operación: 3 será ejecutada en la máquina 2 con una duración de 6.2 e iniciando en el tiempo: 2.5 y siendo la actividad: 2\n",
      "---------------------- Para la tarea 3\n",
      "La operación: 2 será ejecutada en la máquina 0 con una duración de 2.5 e iniciando en el tiempo: 7.7 y siendo la actividad: 1\n",
      "La operación: 3 será ejecutada en la máquina 2 con una duración de 6.2 e iniciando en el tiempo: 6.2 y siendo la actividad: 2\n",
      "La operación: 4 será ejecutada en la máquina 2 con una duración de 2.2 e iniciando en el tiempo: 12.4 y siendo la actividad: 3\n",
      "---------------------- Para la tarea 4\n",
      "La operación: 1 será ejecutada en la máquina 1 con una duración de 3.1 e iniciando en el tiempo: 13.3 y siendo la actividad: 1\n"
     ]
    },
    {
     "data": {
      "text/plain": [
       "[[{'maquina': 0, 'duracion': 5.2, 'inicio': 0.0, 'actividad_num': 1},\n",
       "  {'maquina': 1, 'duracion': 7.8, 'inicio': 5.2, 'actividad_num': 2},\n",
       "  {'maquina': 1, 'duracion': 5.5, 'inicio': 13.0, 'actividad_num': 3}],\n",
       " [{'maquina': 0, 'duracion': 2.5, 'inicio': 5.2, 'actividad_num': 1},\n",
       "  {'maquina': 2, 'duracion': 6.2, 'inicio': 2.5, 'actividad_num': 2}],\n",
       " [{'maquina': 0, 'duracion': 2.5, 'inicio': 7.7, 'actividad_num': 1},\n",
       "  {'maquina': 2, 'duracion': 6.2, 'inicio': 6.2, 'actividad_num': 2},\n",
       "  {'maquina': 2, 'duracion': 2.2, 'inicio': 12.4, 'actividad_num': 3}],\n",
       " [{'maquina': 1, 'duracion': 3.1, 'inicio': 13.3, 'actividad_num': 1}]]"
      ]
     },
     "execution_count": 144,
     "metadata": {},
     "output_type": "execute_result"
    }
   ],
   "source": [
    "transformar_datos_visualizador(mat_op_maq, mat_op_tar, array_genetico)"
   ]
  },
  {
   "cell_type": "code",
   "execution_count": null,
   "id": "bc43fdff",
   "metadata": {},
   "outputs": [
    {
     "name": "stdout",
     "output_type": "stream",
     "text": [
      "[[0.]\n",
      " [0.]\n",
      " [0.]\n",
      " [0.]]\n",
      "Arreglo de prueba [1 2 3] antes de la inserción\n"
     ]
    },
    {
     "ename": "ValueError",
     "evalue": "could not broadcast input array from shape (4,) into shape (3,)",
     "output_type": "error",
     "traceback": [
      "\u001b[1;31m---------------------------------------------------------------------------\u001b[0m",
      "\u001b[1;31mValueError\u001b[0m                                Traceback (most recent call last)",
      "Cell \u001b[1;32mIn[130], line 9\u001b[0m\n\u001b[0;32m      6\u001b[0m arreglo_prueba \u001b[38;5;241m=\u001b[39m np\u001b[38;5;241m.\u001b[39marray([[\u001b[38;5;241m1\u001b[39m,\u001b[38;5;241m2\u001b[39m,\u001b[38;5;241m3\u001b[39m], [\u001b[38;5;241m4\u001b[39m,\u001b[38;5;241m5\u001b[39m,\u001b[38;5;241m6\u001b[39m]])\n\u001b[0;32m      7\u001b[0m \u001b[38;5;28mprint\u001b[39m(\u001b[38;5;124mf\u001b[39m\u001b[38;5;124m\"\u001b[39m\u001b[38;5;124mArreglo de prueba \u001b[39m\u001b[38;5;132;01m{\u001b[39;00marreglo_prueba[\u001b[38;5;241m0\u001b[39m]\u001b[38;5;132;01m}\u001b[39;00m\u001b[38;5;124m antes de la inserción\u001b[39m\u001b[38;5;124m\"\u001b[39m)\n\u001b[1;32m----> 9\u001b[0m \u001b[43marreglo_prueba\u001b[49m\u001b[43m[\u001b[49m\u001b[38;5;241;43m0\u001b[39;49m\u001b[43m]\u001b[49m \u001b[38;5;241m=\u001b[39m np\u001b[38;5;241m.\u001b[39mappend(arreglo_prueba[\u001b[38;5;241m0\u001b[39m], \u001b[38;5;241m4\u001b[39m, axis\u001b[38;5;241m=\u001b[39m\u001b[38;5;28;01mNone\u001b[39;00m)\n\u001b[0;32m     10\u001b[0m \u001b[38;5;28mprint\u001b[39m(\u001b[38;5;124mf\u001b[39m\u001b[38;5;124m\"\u001b[39m\u001b[38;5;124mEl arreglo de prueba después de la inserción : \u001b[39m\u001b[38;5;132;01m{\u001b[39;00marreglo_prueba\u001b[38;5;132;01m}\u001b[39;00m\u001b[38;5;124m\"\u001b[39m)\n",
      "\u001b[1;31mValueError\u001b[0m: could not broadcast input array from shape (4,) into shape (3,)"
     ]
    }
   ],
   "source": [
    "import numpy as np \n",
    "\n",
    "matriz = np.array([[0.0] for _ in range(4)])\n",
    "print(matriz)\n",
    "\n",
    "arreglo_prueba = np.array([[1,2,3],[4,5,6]])\n",
    "print(f\"Arreglo de prueba {arreglo_prueba[0]} antes de la inserción\")\n",
    "\n",
    "arreglo_prueba[0] = np.append(arreglo_prueba[0], 4, axis=None)\n",
    "print(f\"El arreglo de prueba después de la inserción : {arreglo_prueba}\")"
   ]
  },
  {
   "cell_type": "markdown",
   "id": "ec0bf535",
   "metadata": {},
   "source": [
    "## Funciones de ordenamiento en python"
   ]
  },
  {
   "cell_type": "code",
   "execution_count": null,
   "id": "e8c461af",
   "metadata": {},
   "outputs": [
    {
     "name": "stdout",
     "output_type": "stream",
     "text": [
      "Lo que se obtiene del array index es: [1 2 0] y es de tipo: <class 'numpy.ndarray'>\n",
      "La matriz ordenada es: [[11 16 21]\n",
      " [ 4 23 10]\n",
      " [10 55 30]]\n"
     ]
    },
    {
     "ename": "",
     "evalue": "",
     "output_type": "error",
     "traceback": [
      "\u001b[1;31mThe Kernel crashed while executing code in the current cell or a previous cell. \n",
      "\u001b[1;31mPlease review the code in the cell(s) to identify a possible cause of the failure. \n",
      "\u001b[1;31mClick <a href='https://aka.ms/vscodeJupyterKernelCrash'>here</a> for more info. \n",
      "\u001b[1;31mView Jupyter <a href='command:jupyter.viewOutput'>log</a> for further details."
     ]
    }
   ],
   "source": [
    "import numpy as np\n",
    "# Sea el siguiente arreglo una representación matricial \n",
    "array_desordenado = np.array([[10,55,30], [11, 16, 21], [4, 23, 10]])\n",
    "\n",
    "# Se obtienen los índices que ordenarían la matriz de acuerdo con sus índices \n",
    "indexes = np.argsort(array_desordenado[:, 1])\n",
    "print(f\"Lo que se obtiene del array index es: {indexes} y es de tipo: {type(indexes)}\")\n",
    "print(f\"La matriz ordenada es: {array_desordenado[indexes]}\")"
   ]
  },
  {
   "cell_type": "code",
   "execution_count": null,
   "id": "04f5a8d2",
   "metadata": {},
   "outputs": [],
   "source": []
  }
 ],
 "metadata": {
  "kernelspec": {
   "display_name": "Python 3",
   "language": "python",
   "name": "python3"
  },
  "language_info": {
   "codemirror_mode": {
    "name": "ipython",
    "version": 3
   },
   "file_extension": ".py",
   "mimetype": "text/x-python",
   "name": "python",
   "nbconvert_exporter": "python",
   "pygments_lexer": "ipython3",
   "version": "3.12.6"
  }
 },
 "nbformat": 4,
 "nbformat_minor": 5
}
